{
 "cells": [
  {
   "cell_type": "markdown",
   "metadata": {},
   "source": [
    "# tabular-playground-series-jan-2022 EDA(Explanatory Data Analysis)\n",
    "- データに関する知見だけでなく、データ分析の基礎的な方法をコメントで残す形とする"
   ]
  },
  {
   "cell_type": "markdown",
   "metadata": {},
   "source": [
    "## 1. Import libraries"
   ]
  },
  {
   "cell_type": "code",
   "execution_count": 1,
   "metadata": {},
   "outputs": [],
   "source": [
    "import pandas as pd\n",
    "import numpy as np\n",
    "import matplotlib.pyplot as plt\n",
    "import seaborn as sns\n",
    "%matplotlib inline\n",
    "\n",
    "import itertools\n",
    "\n",
    "from sklearn.preprocessing import LabelEncoder\n",
    "\n",
    "sns.set(style='white', context='notebook', palette='pastel')"
   ]
  },
  {
   "cell_type": "markdown",
   "metadata": {},
   "source": [
    "## 2. Load and check data"
   ]
  },
  {
   "cell_type": "markdown",
   "metadata": {},
   "source": [
    "### 2.1 Load data"
   ]
  },
  {
   "cell_type": "code",
   "execution_count": 2,
   "metadata": {},
   "outputs": [
    {
     "data": {
      "text/html": [
       "<div>\n",
       "<style scoped>\n",
       "    .dataframe tbody tr th:only-of-type {\n",
       "        vertical-align: middle;\n",
       "    }\n",
       "\n",
       "    .dataframe tbody tr th {\n",
       "        vertical-align: top;\n",
       "    }\n",
       "\n",
       "    .dataframe thead th {\n",
       "        text-align: right;\n",
       "    }\n",
       "</style>\n",
       "<table border=\"1\" class=\"dataframe\">\n",
       "  <thead>\n",
       "    <tr style=\"text-align: right;\">\n",
       "      <th></th>\n",
       "      <th>date</th>\n",
       "      <th>country</th>\n",
       "      <th>store</th>\n",
       "      <th>product</th>\n",
       "      <th>num_sold</th>\n",
       "    </tr>\n",
       "  </thead>\n",
       "  <tbody>\n",
       "    <tr>\n",
       "      <th>0</th>\n",
       "      <td>2015-01-01</td>\n",
       "      <td>Finland</td>\n",
       "      <td>KaggleMart</td>\n",
       "      <td>Kaggle Mug</td>\n",
       "      <td>329.0</td>\n",
       "    </tr>\n",
       "    <tr>\n",
       "      <th>1</th>\n",
       "      <td>2015-01-01</td>\n",
       "      <td>Finland</td>\n",
       "      <td>KaggleMart</td>\n",
       "      <td>Kaggle Hat</td>\n",
       "      <td>520.0</td>\n",
       "    </tr>\n",
       "    <tr>\n",
       "      <th>2</th>\n",
       "      <td>2015-01-01</td>\n",
       "      <td>Finland</td>\n",
       "      <td>KaggleMart</td>\n",
       "      <td>Kaggle Sticker</td>\n",
       "      <td>146.0</td>\n",
       "    </tr>\n",
       "    <tr>\n",
       "      <th>3</th>\n",
       "      <td>2015-01-01</td>\n",
       "      <td>Finland</td>\n",
       "      <td>KaggleRama</td>\n",
       "      <td>Kaggle Mug</td>\n",
       "      <td>572.0</td>\n",
       "    </tr>\n",
       "    <tr>\n",
       "      <th>4</th>\n",
       "      <td>2015-01-01</td>\n",
       "      <td>Finland</td>\n",
       "      <td>KaggleRama</td>\n",
       "      <td>Kaggle Hat</td>\n",
       "      <td>911.0</td>\n",
       "    </tr>\n",
       "  </tbody>\n",
       "</table>\n",
       "</div>"
      ],
      "text/plain": [
       "         date  country       store         product  num_sold\n",
       "0  2015-01-01  Finland  KaggleMart      Kaggle Mug     329.0\n",
       "1  2015-01-01  Finland  KaggleMart      Kaggle Hat     520.0\n",
       "2  2015-01-01  Finland  KaggleMart  Kaggle Sticker     146.0\n",
       "3  2015-01-01  Finland  KaggleRama      Kaggle Mug     572.0\n",
       "4  2015-01-01  Finland  KaggleRama      Kaggle Hat     911.0"
      ]
     },
     "execution_count": 2,
     "metadata": {},
     "output_type": "execute_result"
    }
   ],
   "source": [
    "# Load data\n",
    "##### Load train and Test set\n",
    "\n",
    "train = pd.read_csv(\"../data/raw/train.csv\")\n",
    "test = pd.read_csv(\"../data/raw/test.csv\")\n",
    "# header, index_colを指定する場合\n",
    "# train = pd.read_csv(\"../data/raw/train.csv, header=0, index_col=0\")\n",
    "\n",
    "train_len = len(train)\n",
    "dataset = pd.concat(objs=[train, test], axis=0).reset_index(drop=True)\n",
    "# reset_index: indexを0から順に振り直す\n",
    "# drop: Falseの場合、元のindexが「index」列が新たに生成されて残る。Trueの場合「index」列は作られない。\n",
    "\n",
    "dataset = dataset.drop(columns=['row_id'])\n",
    "train = train.drop(columns=['row_id'])\n",
    "\n",
    "dataset.head()"
   ]
  },
  {
   "cell_type": "markdown",
   "metadata": {},
   "source": [
    "### 2.2 check for null and missing values\n",
    "- 欠損なし！"
   ]
  },
  {
   "cell_type": "code",
   "execution_count": 3,
   "metadata": {},
   "outputs": [
    {
     "data": {
      "text/plain": [
       "date           0\n",
       "country        0\n",
       "store          0\n",
       "product        0\n",
       "num_sold    6570\n",
       "dtype: int64"
      ]
     },
     "execution_count": 3,
     "metadata": {},
     "output_type": "execute_result"
    }
   ],
   "source": [
    "dataset.isnull().sum()"
   ]
  },
  {
   "cell_type": "markdown",
   "metadata": {},
   "source": [
    "###　2.3 check uniqe data\n",
    "- データはパターン化されている\n",
    "    - country：３種類\n",
    "    - store：２種類\n",
    "    - product：３種類\n",
    "- （Mugは冬の方が売れそうな気もするがどうだろう）"
   ]
  },
  {
   "cell_type": "code",
   "execution_count": 4,
   "metadata": {},
   "outputs": [
    {
     "name": "stdout",
     "output_type": "stream",
     "text": [
      "['Finland' 'Norway' 'Sweden']\n",
      "['KaggleMart' 'KaggleRama']\n",
      "['Kaggle Mug' 'Kaggle Hat' 'Kaggle Sticker']\n"
     ]
    }
   ],
   "source": [
    "print(dataset[\"country\"].unique())\n",
    "print(dataset[\"store\"].unique())\n",
    "print(dataset[\"product\"].unique())"
   ]
  },
  {
   "cell_type": "markdown",
   "metadata": {},
   "source": [
    "## 3. Feature analysis"
   ]
  },
  {
   "cell_type": "markdown",
   "metadata": {},
   "source": [
    "### 3.1 Categorical values"
   ]
  },
  {
   "cell_type": "markdown",
   "metadata": {},
   "source": [
    "#### 各国、店、製品ごとに可視化をしてみる。\n",
    "- 国ごとで差がありそう。特にNorway。\n",
    "- 製品は、Hat, Mug, Stickerの順に人気のようで、その傾向は国、店関係なく同じ傾向。\n",
    "- storeはRamaの方が売り上げが多いようで、その傾向は国、製品関係なく同じ傾向。\n",
    "- NorwayのHatはやや標準偏差が大きい気がする。\n"
   ]
  },
  {
   "cell_type": "code",
   "execution_count": 5,
   "metadata": {},
   "outputs": [
    {
     "data": {
      "image/png": "[encoded data removed]",
      "text/plain": [
       "<Figure size 830.725x360 with 2 Axes>"
      ]
     },
     "metadata": {},
     "output_type": "display_data"
    }
   ],
   "source": [
    "g = sns.catplot(x='country', y='num_sold', hue='product', col='store', data=train, kind='bar', estimator=np.mean, ci='sd')\n",
    "g = g.set(ylabel='Average num_sold')"
   ]
  },
  {
   "cell_type": "code",
   "execution_count": 6,
   "metadata": {},
   "outputs": [
    {
     "data": {
      "text/html": [
       "<div>\n",
       "<style scoped>\n",
       "    .dataframe tbody tr th:only-of-type {\n",
       "        vertical-align: middle;\n",
       "    }\n",
       "\n",
       "    .dataframe tbody tr th {\n",
       "        vertical-align: top;\n",
       "    }\n",
       "\n",
       "    .dataframe thead tr th {\n",
       "        text-align: left;\n",
       "    }\n",
       "\n",
       "    .dataframe thead tr:last-of-type th {\n",
       "        text-align: right;\n",
       "    }\n",
       "</style>\n",
       "<table border=\"1\" class=\"dataframe\">\n",
       "  <thead>\n",
       "    <tr>\n",
       "      <th></th>\n",
       "      <th></th>\n",
       "      <th></th>\n",
       "      <th colspan=\"8\" halign=\"left\">num_sold</th>\n",
       "    </tr>\n",
       "    <tr>\n",
       "      <th></th>\n",
       "      <th></th>\n",
       "      <th></th>\n",
       "      <th>count</th>\n",
       "      <th>mean</th>\n",
       "      <th>std</th>\n",
       "      <th>min</th>\n",
       "      <th>25%</th>\n",
       "      <th>50%</th>\n",
       "      <th>75%</th>\n",
       "      <th>max</th>\n",
       "    </tr>\n",
       "    <tr>\n",
       "      <th>country</th>\n",
       "      <th>store</th>\n",
       "      <th>product</th>\n",
       "      <th></th>\n",
       "      <th></th>\n",
       "      <th></th>\n",
       "      <th></th>\n",
       "      <th></th>\n",
       "      <th></th>\n",
       "      <th></th>\n",
       "      <th></th>\n",
       "    </tr>\n",
       "  </thead>\n",
       "  <tbody>\n",
       "    <tr>\n",
       "      <th rowspan=\"6\" valign=\"top\">Finland</th>\n",
       "      <th rowspan=\"3\" valign=\"top\">KaggleMart</th>\n",
       "      <th>Kaggle Hat</th>\n",
       "      <td>1461.0</td>\n",
       "      <td>362.479808</td>\n",
       "      <td>97.515965</td>\n",
       "      <td>210.0</td>\n",
       "      <td>292.0</td>\n",
       "      <td>350.0</td>\n",
       "      <td>410.0</td>\n",
       "      <td>1113.0</td>\n",
       "    </tr>\n",
       "    <tr>\n",
       "      <th>Kaggle Mug</th>\n",
       "      <td>1461.0</td>\n",
       "      <td>204.200548</td>\n",
       "      <td>54.378394</td>\n",
       "      <td>126.0</td>\n",
       "      <td>173.0</td>\n",
       "      <td>195.0</td>\n",
       "      <td>224.0</td>\n",
       "      <td>774.0</td>\n",
       "    </tr>\n",
       "    <tr>\n",
       "      <th>Kaggle Sticker</th>\n",
       "      <td>1461.0</td>\n",
       "      <td>103.044490</td>\n",
       "      <td>21.703357</td>\n",
       "      <td>70.0</td>\n",
       "      <td>89.0</td>\n",
       "      <td>100.0</td>\n",
       "      <td>111.0</td>\n",
       "      <td>326.0</td>\n",
       "    </tr>\n",
       "    <tr>\n",
       "      <th rowspan=\"3\" valign=\"top\">KaggleRama</th>\n",
       "      <th>Kaggle Hat</th>\n",
       "      <td>1461.0</td>\n",
       "      <td>628.926762</td>\n",
       "      <td>165.582345</td>\n",
       "      <td>354.0</td>\n",
       "      <td>515.0</td>\n",
       "      <td>608.0</td>\n",
       "      <td>712.0</td>\n",
       "      <td>1895.0</td>\n",
       "    </tr>\n",
       "    <tr>\n",
       "      <th>Kaggle Mug</th>\n",
       "      <td>1461.0</td>\n",
       "      <td>356.110883</td>\n",
       "      <td>94.885403</td>\n",
       "      <td>220.0</td>\n",
       "      <td>301.0</td>\n",
       "      <td>340.0</td>\n",
       "      <td>392.0</td>\n",
       "      <td>1398.0</td>\n",
       "    </tr>\n",
       "    <tr>\n",
       "      <th>Kaggle Sticker</th>\n",
       "      <td>1461.0</td>\n",
       "      <td>180.232033</td>\n",
       "      <td>38.718906</td>\n",
       "      <td>128.0</td>\n",
       "      <td>155.0</td>\n",
       "      <td>174.0</td>\n",
       "      <td>195.0</td>\n",
       "      <td>559.0</td>\n",
       "    </tr>\n",
       "    <tr>\n",
       "      <th rowspan=\"6\" valign=\"top\">Norway</th>\n",
       "      <th rowspan=\"3\" valign=\"top\">KaggleMart</th>\n",
       "      <th>Kaggle Hat</th>\n",
       "      <td>1461.0</td>\n",
       "      <td>594.645448</td>\n",
       "      <td>158.359675</td>\n",
       "      <td>335.0</td>\n",
       "      <td>482.0</td>\n",
       "      <td>571.0</td>\n",
       "      <td>673.0</td>\n",
       "      <td>1809.0</td>\n",
       "    </tr>\n",
       "    <tr>\n",
       "      <th>Kaggle Mug</th>\n",
       "      <td>1461.0</td>\n",
       "      <td>334.370294</td>\n",
       "      <td>82.256584</td>\n",
       "      <td>201.0</td>\n",
       "      <td>284.0</td>\n",
       "      <td>319.0</td>\n",
       "      <td>367.0</td>\n",
       "      <td>1113.0</td>\n",
       "    </tr>\n",
       "    <tr>\n",
       "      <th>Kaggle Sticker</th>\n",
       "      <td>1461.0</td>\n",
       "      <td>169.577687</td>\n",
       "      <td>34.276759</td>\n",
       "      <td>114.0</td>\n",
       "      <td>147.0</td>\n",
       "      <td>162.0</td>\n",
       "      <td>182.0</td>\n",
       "      <td>518.0</td>\n",
       "    </tr>\n",
       "    <tr>\n",
       "      <th rowspan=\"3\" valign=\"top\">KaggleRama</th>\n",
       "      <th>Kaggle Hat</th>\n",
       "      <td>1461.0</td>\n",
       "      <td>1036.357974</td>\n",
       "      <td>276.772979</td>\n",
       "      <td>596.0</td>\n",
       "      <td>841.0</td>\n",
       "      <td>990.0</td>\n",
       "      <td>1163.0</td>\n",
       "      <td>2884.0</td>\n",
       "    </tr>\n",
       "    <tr>\n",
       "      <th>Kaggle Mug</th>\n",
       "      <td>1461.0</td>\n",
       "      <td>584.297741</td>\n",
       "      <td>142.517751</td>\n",
       "      <td>366.0</td>\n",
       "      <td>500.0</td>\n",
       "      <td>558.0</td>\n",
       "      <td>639.0</td>\n",
       "      <td>1935.0</td>\n",
       "    </tr>\n",
       "    <tr>\n",
       "      <th>Kaggle Sticker</th>\n",
       "      <td>1461.0</td>\n",
       "      <td>295.607803</td>\n",
       "      <td>59.471141</td>\n",
       "      <td>214.0</td>\n",
       "      <td>256.0</td>\n",
       "      <td>285.0</td>\n",
       "      <td>319.0</td>\n",
       "      <td>874.0</td>\n",
       "    </tr>\n",
       "    <tr>\n",
       "      <th rowspan=\"6\" valign=\"top\">Sweden</th>\n",
       "      <th rowspan=\"3\" valign=\"top\">KaggleMart</th>\n",
       "      <th>Kaggle Hat</th>\n",
       "      <td>1461.0</td>\n",
       "      <td>419.214237</td>\n",
       "      <td>109.328630</td>\n",
       "      <td>248.0</td>\n",
       "      <td>337.0</td>\n",
       "      <td>408.0</td>\n",
       "      <td>475.0</td>\n",
       "      <td>1207.0</td>\n",
       "    </tr>\n",
       "    <tr>\n",
       "      <th>Kaggle Mug</th>\n",
       "      <td>1461.0</td>\n",
       "      <td>235.885010</td>\n",
       "      <td>59.189067</td>\n",
       "      <td>149.0</td>\n",
       "      <td>201.0</td>\n",
       "      <td>225.0</td>\n",
       "      <td>253.0</td>\n",
       "      <td>730.0</td>\n",
       "    </tr>\n",
       "    <tr>\n",
       "      <th>Kaggle Sticker</th>\n",
       "      <td>1461.0</td>\n",
       "      <td>119.613279</td>\n",
       "      <td>24.342793</td>\n",
       "      <td>86.0</td>\n",
       "      <td>105.0</td>\n",
       "      <td>114.0</td>\n",
       "      <td>129.0</td>\n",
       "      <td>356.0</td>\n",
       "    </tr>\n",
       "    <tr>\n",
       "      <th rowspan=\"3\" valign=\"top\">KaggleRama</th>\n",
       "      <th>Kaggle Hat</th>\n",
       "      <td>1461.0</td>\n",
       "      <td>731.452430</td>\n",
       "      <td>189.320490</td>\n",
       "      <td>428.0</td>\n",
       "      <td>591.0</td>\n",
       "      <td>714.0</td>\n",
       "      <td>826.0</td>\n",
       "      <td>2169.0</td>\n",
       "    </tr>\n",
       "    <tr>\n",
       "      <th>Kaggle Mug</th>\n",
       "      <td>1461.0</td>\n",
       "      <td>411.273101</td>\n",
       "      <td>104.620331</td>\n",
       "      <td>253.0</td>\n",
       "      <td>351.0</td>\n",
       "      <td>394.0</td>\n",
       "      <td>445.0</td>\n",
       "      <td>1438.0</td>\n",
       "    </tr>\n",
       "    <tr>\n",
       "      <th>Kaggle Sticker</th>\n",
       "      <td>1461.0</td>\n",
       "      <td>208.314853</td>\n",
       "      <td>42.186711</td>\n",
       "      <td>148.0</td>\n",
       "      <td>183.0</td>\n",
       "      <td>198.0</td>\n",
       "      <td>226.0</td>\n",
       "      <td>637.0</td>\n",
       "    </tr>\n",
       "  </tbody>\n",
       "</table>\n",
       "</div>"
      ],
      "text/plain": [
       "                                  num_sold                                  \\\n",
       "                                     count         mean         std    min   \n",
       "country store      product                                                   \n",
       "Finland KaggleMart Kaggle Hat       1461.0   362.479808   97.515965  210.0   \n",
       "                   Kaggle Mug       1461.0   204.200548   54.378394  126.0   \n",
       "                   Kaggle Sticker   1461.0   103.044490   21.703357   70.0   \n",
       "        KaggleRama Kaggle Hat       1461.0   628.926762  165.582345  354.0   \n",
       "                   Kaggle Mug       1461.0   356.110883   94.885403  220.0   \n",
       "                   Kaggle Sticker   1461.0   180.232033   38.718906  128.0   \n",
       "Norway  KaggleMart Kaggle Hat       1461.0   594.645448  158.359675  335.0   \n",
       "                   Kaggle Mug       1461.0   334.370294   82.256584  201.0   \n",
       "                   Kaggle Sticker   1461.0   169.577687   34.276759  114.0   \n",
       "        KaggleRama Kaggle Hat       1461.0  1036.357974  276.772979  596.0   \n",
       "                   Kaggle Mug       1461.0   584.297741  142.517751  366.0   \n",
       "                   Kaggle Sticker   1461.0   295.607803   59.471141  214.0   \n",
       "Sweden  KaggleMart Kaggle Hat       1461.0   419.214237  109.328630  248.0   \n",
       "                   Kaggle Mug       1461.0   235.885010   59.189067  149.0   \n",
       "                   Kaggle Sticker   1461.0   119.613279   24.342793   86.0   \n",
       "        KaggleRama Kaggle Hat       1461.0   731.452430  189.320490  428.0   \n",
       "                   Kaggle Mug       1461.0   411.273101  104.620331  253.0   \n",
       "                   Kaggle Sticker   1461.0   208.314853   42.186711  148.0   \n",
       "\n",
       "                                                                 \n",
       "                                     25%    50%     75%     max  \n",
       "country store      product                                       \n",
       "Finland KaggleMart Kaggle Hat      292.0  350.0   410.0  1113.0  \n",
       "                   Kaggle Mug      173.0  195.0   224.0   774.0  \n",
       "                   Kaggle Sticker   89.0  100.0   111.0   326.0  \n",
       "        KaggleRama Kaggle Hat      515.0  608.0   712.0  1895.0  \n",
       "                   Kaggle Mug      301.0  340.0   392.0  1398.0  \n",
       "                   Kaggle Sticker  155.0  174.0   195.0   559.0  \n",
       "Norway  KaggleMart Kaggle Hat      482.0  571.0   673.0  1809.0  \n",
       "                   Kaggle Mug      284.0  319.0   367.0  1113.0  \n",
       "                   Kaggle Sticker  147.0  162.0   182.0   518.0  \n",
       "        KaggleRama Kaggle Hat      841.0  990.0  1163.0  2884.0  \n",
       "                   Kaggle Mug      500.0  558.0   639.0  1935.0  \n",
       "                   Kaggle Sticker  256.0  285.0   319.0   874.0  \n",
       "Sweden  KaggleMart Kaggle Hat      337.0  408.0   475.0  1207.0  \n",
       "                   Kaggle Mug      201.0  225.0   253.0   730.0  \n",
       "                   Kaggle Sticker  105.0  114.0   129.0   356.0  \n",
       "        KaggleRama Kaggle Hat      591.0  714.0   826.0  2169.0  \n",
       "                   Kaggle Mug      351.0  394.0   445.0  1438.0  \n",
       "                   Kaggle Sticker  183.0  198.0   226.0   637.0  "
      ]
     },
     "execution_count": 6,
     "metadata": {},
     "output_type": "execute_result"
    }
   ],
   "source": [
    "train.groupby(['country', 'store', 'product']).describe()"
   ]
  },
  {
   "cell_type": "markdown",
   "metadata": {},
   "source": [
    "#### 箱ひげ図によって、外れ値がどれだけあるか可視化してみる。\n",
    "- 全体的に多い。また、最大値側に集中している。\n",
    "- 特売があるのか、祝日なのか、特別な日に大きな売り上げとなっていそう"
   ]
  },
  {
   "cell_type": "code",
   "execution_count": 7,
   "metadata": {},
   "outputs": [
    {
     "data": {
      "image/png": "[encoded data removed]",
      "text/plain": [
       "<Figure size 1183.35x360 with 3 Axes>"
      ]
     },
     "metadata": {},
     "output_type": "display_data"
    }
   ],
   "source": [
    "g = sns.catplot(x='country', y='num_sold', hue='store', col='product', data=dataset, kind=\"box\")"
   ]
  },
  {
   "cell_type": "markdown",
   "metadata": {},
   "source": [
    "### 外れ値となっている行を抽出する\n",
    "- 外れ値を検出する関数を用意した。\n",
    "- itertoolsを利用し、３重ループさせる必要のあるところを１行でスッキリと記述する\n",
    "- かなりの数の外れ値があるので、外れ値になっている日付に傾向がないか、調べる必要がある。"
   ]
  },
  {
   "cell_type": "code",
   "execution_count": 8,
   "metadata": {},
   "outputs": [],
   "source": [
    "# Outlier detection\n",
    "def detect_outliers(df, features):\n",
    "    # 1st quartile (25%)\n",
    "    Q1 = np.percentile(df[features], 25)\n",
    "\n",
    "    # 3rd quartile (75%)\n",
    "    Q3 = np.percentile(df[features],75)\n",
    "\n",
    "    # Interquartile range (IQR)\n",
    "    IQR = Q3 - Q1\n",
    "\n",
    "    # outlier step\n",
    "    outlier_step = 1.5 * IQR\n",
    "\n",
    "    # Determine a list of indices of outliers for feature col\n",
    "    outlier_row = df[(df[features] < Q1 - outlier_step) | (df[features] > Q3 + outlier_step )].index\n",
    "\n",
    "    return outlier_row"
   ]
  },
  {
   "cell_type": "code",
   "execution_count": 9,
   "metadata": {},
   "outputs": [
    {
     "data": {
      "text/html": [
       "<div>\n",
       "<style scoped>\n",
       "    .dataframe tbody tr th:only-of-type {\n",
       "        vertical-align: middle;\n",
       "    }\n",
       "\n",
       "    .dataframe tbody tr th {\n",
       "        vertical-align: top;\n",
       "    }\n",
       "\n",
       "    .dataframe thead th {\n",
       "        text-align: right;\n",
       "    }\n",
       "</style>\n",
       "<table border=\"1\" class=\"dataframe\">\n",
       "  <thead>\n",
       "    <tr style=\"text-align: right;\">\n",
       "      <th></th>\n",
       "      <th>date</th>\n",
       "      <th>country</th>\n",
       "      <th>store</th>\n",
       "      <th>product</th>\n",
       "      <th>num_sold</th>\n",
       "    </tr>\n",
       "  </thead>\n",
       "  <tbody>\n",
       "    <tr>\n",
       "      <th>0</th>\n",
       "      <td>2015-01-01</td>\n",
       "      <td>Finland</td>\n",
       "      <td>KaggleMart</td>\n",
       "      <td>Kaggle Mug</td>\n",
       "      <td>329</td>\n",
       "    </tr>\n",
       "    <tr>\n",
       "      <th>18</th>\n",
       "      <td>2015-01-02</td>\n",
       "      <td>Finland</td>\n",
       "      <td>KaggleMart</td>\n",
       "      <td>Kaggle Mug</td>\n",
       "      <td>318</td>\n",
       "    </tr>\n",
       "    <tr>\n",
       "      <th>36</th>\n",
       "      <td>2015-01-03</td>\n",
       "      <td>Finland</td>\n",
       "      <td>KaggleMart</td>\n",
       "      <td>Kaggle Mug</td>\n",
       "      <td>360</td>\n",
       "    </tr>\n",
       "    <tr>\n",
       "      <th>54</th>\n",
       "      <td>2015-01-04</td>\n",
       "      <td>Finland</td>\n",
       "      <td>KaggleMart</td>\n",
       "      <td>Kaggle Mug</td>\n",
       "      <td>332</td>\n",
       "    </tr>\n",
       "    <tr>\n",
       "      <th>6462</th>\n",
       "      <td>2015-12-26</td>\n",
       "      <td>Finland</td>\n",
       "      <td>KaggleMart</td>\n",
       "      <td>Kaggle Mug</td>\n",
       "      <td>338</td>\n",
       "    </tr>\n",
       "    <tr>\n",
       "      <th>...</th>\n",
       "      <td>...</td>\n",
       "      <td>...</td>\n",
       "      <td>...</td>\n",
       "      <td>...</td>\n",
       "      <td>...</td>\n",
       "    </tr>\n",
       "    <tr>\n",
       "      <th>26225</th>\n",
       "      <td>2018-12-27</td>\n",
       "      <td>Sweden</td>\n",
       "      <td>KaggleRama</td>\n",
       "      <td>Kaggle Sticker</td>\n",
       "      <td>319</td>\n",
       "    </tr>\n",
       "    <tr>\n",
       "      <th>26243</th>\n",
       "      <td>2018-12-28</td>\n",
       "      <td>Sweden</td>\n",
       "      <td>KaggleRama</td>\n",
       "      <td>Kaggle Sticker</td>\n",
       "      <td>441</td>\n",
       "    </tr>\n",
       "    <tr>\n",
       "      <th>26261</th>\n",
       "      <td>2018-12-29</td>\n",
       "      <td>Sweden</td>\n",
       "      <td>KaggleRama</td>\n",
       "      <td>Kaggle Sticker</td>\n",
       "      <td>596</td>\n",
       "    </tr>\n",
       "    <tr>\n",
       "      <th>26279</th>\n",
       "      <td>2018-12-30</td>\n",
       "      <td>Sweden</td>\n",
       "      <td>KaggleRama</td>\n",
       "      <td>Kaggle Sticker</td>\n",
       "      <td>587</td>\n",
       "    </tr>\n",
       "    <tr>\n",
       "      <th>26297</th>\n",
       "      <td>2018-12-31</td>\n",
       "      <td>Sweden</td>\n",
       "      <td>KaggleRama</td>\n",
       "      <td>Kaggle Sticker</td>\n",
       "      <td>388</td>\n",
       "    </tr>\n",
       "  </tbody>\n",
       "</table>\n",
       "<p>723 rows × 5 columns</p>\n",
       "</div>"
      ],
      "text/plain": [
       "             date  country       store         product  num_sold\n",
       "0      2015-01-01  Finland  KaggleMart      Kaggle Mug       329\n",
       "18     2015-01-02  Finland  KaggleMart      Kaggle Mug       318\n",
       "36     2015-01-03  Finland  KaggleMart      Kaggle Mug       360\n",
       "54     2015-01-04  Finland  KaggleMart      Kaggle Mug       332\n",
       "6462   2015-12-26  Finland  KaggleMart      Kaggle Mug       338\n",
       "...           ...      ...         ...             ...       ...\n",
       "26225  2018-12-27   Sweden  KaggleRama  Kaggle Sticker       319\n",
       "26243  2018-12-28   Sweden  KaggleRama  Kaggle Sticker       441\n",
       "26261  2018-12-29   Sweden  KaggleRama  Kaggle Sticker       596\n",
       "26279  2018-12-30   Sweden  KaggleRama  Kaggle Sticker       587\n",
       "26297  2018-12-31   Sweden  KaggleRama  Kaggle Sticker       388\n",
       "\n",
       "[723 rows x 5 columns]"
      ]
     },
     "execution_count": 9,
     "metadata": {},
     "output_type": "execute_result"
    }
   ],
   "source": [
    "outliers_to_drop = []\n",
    "for country, store, product in itertools.product(dataset[\"country\"].unique(), dataset[\"store\"].unique(), dataset[\"product\"].unique()):\n",
    "    outliers_to_drop.extend(detect_outliers(train[(train['country'] == country) & (train['store'] == store) & (train['product'] == product)], 'num_sold'))\n",
    "\n",
    "# Show the outliers rows\n",
    "train.loc[outliers_to_drop]"
   ]
  },
  {
   "cell_type": "markdown",
   "metadata": {},
   "source": [
    "### 日付をパラメータ化する\n",
    "- pd.to_datetime で時間変数に変換することができる。(2015-01-01 とハイフンで区切られるものも扱いやすくなる)\n",
    "- それぞれを年、月、日のパラメータに分解して新たな列を用意\n",
    "- さらに、曜日列(dayofweek)を追加（月曜日が0、日曜日が6）"
   ]
  },
  {
   "cell_type": "code",
   "execution_count": 10,
   "metadata": {},
   "outputs": [
    {
     "data": {
      "text/html": [
       "<div>\n",
       "<style scoped>\n",
       "    .dataframe tbody tr th:only-of-type {\n",
       "        vertical-align: middle;\n",
       "    }\n",
       "\n",
       "    .dataframe tbody tr th {\n",
       "        vertical-align: top;\n",
       "    }\n",
       "\n",
       "    .dataframe thead th {\n",
       "        text-align: right;\n",
       "    }\n",
       "</style>\n",
       "<table border=\"1\" class=\"dataframe\">\n",
       "  <thead>\n",
       "    <tr style=\"text-align: right;\">\n",
       "      <th></th>\n",
       "      <th>date</th>\n",
       "      <th>country</th>\n",
       "      <th>store</th>\n",
       "      <th>product</th>\n",
       "      <th>num_sold</th>\n",
       "      <th>datetime</th>\n",
       "      <th>year</th>\n",
       "      <th>month</th>\n",
       "      <th>day</th>\n",
       "      <th>dayofweek</th>\n",
       "    </tr>\n",
       "  </thead>\n",
       "  <tbody>\n",
       "    <tr>\n",
       "      <th>0</th>\n",
       "      <td>2015-01-01</td>\n",
       "      <td>Finland</td>\n",
       "      <td>KaggleMart</td>\n",
       "      <td>Kaggle Mug</td>\n",
       "      <td>329.0</td>\n",
       "      <td>2015-01-01</td>\n",
       "      <td>2015</td>\n",
       "      <td>1</td>\n",
       "      <td>1</td>\n",
       "      <td>3</td>\n",
       "    </tr>\n",
       "    <tr>\n",
       "      <th>1</th>\n",
       "      <td>2015-01-01</td>\n",
       "      <td>Finland</td>\n",
       "      <td>KaggleMart</td>\n",
       "      <td>Kaggle Hat</td>\n",
       "      <td>520.0</td>\n",
       "      <td>2015-01-01</td>\n",
       "      <td>2015</td>\n",
       "      <td>1</td>\n",
       "      <td>1</td>\n",
       "      <td>3</td>\n",
       "    </tr>\n",
       "    <tr>\n",
       "      <th>2</th>\n",
       "      <td>2015-01-01</td>\n",
       "      <td>Finland</td>\n",
       "      <td>KaggleMart</td>\n",
       "      <td>Kaggle Sticker</td>\n",
       "      <td>146.0</td>\n",
       "      <td>2015-01-01</td>\n",
       "      <td>2015</td>\n",
       "      <td>1</td>\n",
       "      <td>1</td>\n",
       "      <td>3</td>\n",
       "    </tr>\n",
       "    <tr>\n",
       "      <th>3</th>\n",
       "      <td>2015-01-01</td>\n",
       "      <td>Finland</td>\n",
       "      <td>KaggleRama</td>\n",
       "      <td>Kaggle Mug</td>\n",
       "      <td>572.0</td>\n",
       "      <td>2015-01-01</td>\n",
       "      <td>2015</td>\n",
       "      <td>1</td>\n",
       "      <td>1</td>\n",
       "      <td>3</td>\n",
       "    </tr>\n",
       "    <tr>\n",
       "      <th>4</th>\n",
       "      <td>2015-01-01</td>\n",
       "      <td>Finland</td>\n",
       "      <td>KaggleRama</td>\n",
       "      <td>Kaggle Hat</td>\n",
       "      <td>911.0</td>\n",
       "      <td>2015-01-01</td>\n",
       "      <td>2015</td>\n",
       "      <td>1</td>\n",
       "      <td>1</td>\n",
       "      <td>3</td>\n",
       "    </tr>\n",
       "  </tbody>\n",
       "</table>\n",
       "</div>"
      ],
      "text/plain": [
       "         date  country       store         product  num_sold   datetime  year  \\\n",
       "0  2015-01-01  Finland  KaggleMart      Kaggle Mug     329.0 2015-01-01  2015   \n",
       "1  2015-01-01  Finland  KaggleMart      Kaggle Hat     520.0 2015-01-01  2015   \n",
       "2  2015-01-01  Finland  KaggleMart  Kaggle Sticker     146.0 2015-01-01  2015   \n",
       "3  2015-01-01  Finland  KaggleRama      Kaggle Mug     572.0 2015-01-01  2015   \n",
       "4  2015-01-01  Finland  KaggleRama      Kaggle Hat     911.0 2015-01-01  2015   \n",
       "\n",
       "   month  day  dayofweek  \n",
       "0      1    1          3  \n",
       "1      1    1          3  \n",
       "2      1    1          3  \n",
       "3      1    1          3  \n",
       "4      1    1          3  "
      ]
     },
     "execution_count": 10,
     "metadata": {},
     "output_type": "execute_result"
    }
   ],
   "source": [
    "dataset['datetime'] = pd.to_datetime(dataset['date'])\n",
    "dataset['year'] = dataset['datetime'].dt.year\n",
    "dataset['month'] = dataset['datetime'].dt.month\n",
    "dataset['day'] = dataset['datetime'].dt.day\n",
    "dataset['dayofweek'] = dataset['datetime'].dt.dayofweek\n",
    "\n",
    "train['datetime'] = pd.to_datetime(train['date'])\n",
    "train['year'] = train['datetime'].dt.year\n",
    "train['month'] = train['datetime'].dt.month\n",
    "train['day'] = train['datetime'].dt.day\n",
    "train['dayofweek'] = train['datetime'].dt.dayofweek\n",
    "\n",
    "dataset.head()"
   ]
  },
  {
   "cell_type": "markdown",
   "metadata": {},
   "source": [
    "### 外れ値の傾向調査\n",
    "- 1月と４月と12月に外れ値が多い\n",
    "    - 1月は1〜3日（年始）に多い\n",
    "    - 4月は上旬に多い傾向\n",
    "    - 12月は26〜31日（年末）に多い\n",
    "- 7~10月に外れ値はない"
   ]
  },
  {
   "cell_type": "code",
   "execution_count": 11,
   "metadata": {},
   "outputs": [
    {
     "data": {
      "text/html": [
       "<div>\n",
       "<style scoped>\n",
       "    .dataframe tbody tr th:only-of-type {\n",
       "        vertical-align: middle;\n",
       "    }\n",
       "\n",
       "    .dataframe tbody tr th {\n",
       "        vertical-align: top;\n",
       "    }\n",
       "\n",
       "    .dataframe thead th {\n",
       "        text-align: right;\n",
       "    }\n",
       "</style>\n",
       "<table border=\"1\" class=\"dataframe\">\n",
       "  <thead>\n",
       "    <tr style=\"text-align: right;\">\n",
       "      <th></th>\n",
       "      <th>num_sold</th>\n",
       "    </tr>\n",
       "    <tr>\n",
       "      <th>month</th>\n",
       "      <th></th>\n",
       "    </tr>\n",
       "  </thead>\n",
       "  <tbody>\n",
       "    <tr>\n",
       "      <th>1</th>\n",
       "      <td>163</td>\n",
       "    </tr>\n",
       "    <tr>\n",
       "      <th>2</th>\n",
       "      <td>3</td>\n",
       "    </tr>\n",
       "    <tr>\n",
       "      <th>3</th>\n",
       "      <td>10</td>\n",
       "    </tr>\n",
       "    <tr>\n",
       "      <th>4</th>\n",
       "      <td>113</td>\n",
       "    </tr>\n",
       "    <tr>\n",
       "      <th>5</th>\n",
       "      <td>53</td>\n",
       "    </tr>\n",
       "    <tr>\n",
       "      <th>6</th>\n",
       "      <td>10</td>\n",
       "    </tr>\n",
       "    <tr>\n",
       "      <th>11</th>\n",
       "      <td>4</td>\n",
       "    </tr>\n",
       "    <tr>\n",
       "      <th>12</th>\n",
       "      <td>367</td>\n",
       "    </tr>\n",
       "  </tbody>\n",
       "</table>\n",
       "</div>"
      ],
      "text/plain": [
       "       num_sold\n",
       "month          \n",
       "1           163\n",
       "2             3\n",
       "3            10\n",
       "4           113\n",
       "5            53\n",
       "6            10\n",
       "11            4\n",
       "12          367"
      ]
     },
     "execution_count": 11,
     "metadata": {},
     "output_type": "execute_result"
    }
   ],
   "source": [
    "train.loc[outliers_to_drop][['num_sold', 'month']].groupby(['month']).count()"
   ]
  },
  {
   "cell_type": "code",
   "execution_count": 12,
   "metadata": {},
   "outputs": [
    {
     "data": {
      "text/plain": [
       "<AxesSubplot:>"
      ]
     },
     "execution_count": 12,
     "metadata": {},
     "output_type": "execute_result"
    },
    {
     "data": {
      "image/png": "[encoded data removed]",
      "text/plain": [
       "<Figure size 432x288 with 1 Axes>"
      ]
     },
     "metadata": {},
     "output_type": "display_data"
    }
   ],
   "source": [
    "outliers_train = train.loc[outliers_to_drop]\n",
    "#outliers_train[outliers_train[\"month\"] == 1]['day'].hist(bins=31)\n",
    "outliers_train[outliers_train[\"month\"] == 4]['day'].hist(bins=30)\n",
    "#outliers_train[outliers_train[\"month\"] == 12]['day'].hist(bins=31)"
   ]
  },
  {
   "cell_type": "markdown",
   "metadata": {},
   "source": [
    "### 祝日情報の追加\n",
    "- 面倒なので一旦なし"
   ]
  },
  {
   "cell_type": "code",
   "execution_count": null,
   "metadata": {},
   "outputs": [],
   "source": []
  },
  {
   "cell_type": "markdown",
   "metadata": {},
   "source": [
    "### 年ごとの傾向"
   ]
  },
  {
   "cell_type": "code",
   "execution_count": 14,
   "metadata": {},
   "outputs": [
    {
     "data": {
      "image/png": "[encoded data removed]",
      "text/plain": [
       "<Figure size 360x360 with 1 Axes>"
      ]
     },
     "metadata": {},
     "output_type": "display_data"
    }
   ],
   "source": [
    "#g = sns.catplot(x='year', y='num_sold', hue='store', col='product', data=dataset, kind=\"box\")\n",
    "g = sns.catplot(x='year', y='num_sold', data=dataset, kind=\"box\")"
   ]
  },
  {
   "cell_type": "markdown",
   "metadata": {},
   "source": [
    "### 傾向調査\n",
    "- 一旦保留"
   ]
  },
  {
   "cell_type": "code",
   "execution_count": null,
   "metadata": {},
   "outputs": [],
   "source": [
    "g = sns.heatmap(train[[\"num_sold\", \"month\", \"day\", \"dayofweek\"]].corr(), annot=True)"
   ]
  },
  {
   "cell_type": "markdown",
   "metadata": {},
   "source": [
    "## 5.Feature engineering"
   ]
  },
  {
   "cell_type": "markdown",
   "metadata": {},
   "source": [
    "### 5.1 country/store/product\n",
    "- label encodingによって数値化する"
   ]
  },
  {
   "cell_type": "code",
   "execution_count": null,
   "metadata": {},
   "outputs": [],
   "source": [
    "category_cols = ['country', 'store', 'product']\n",
    "\n",
    "for category in category_cols:\n",
    "    le = LabelEncoder()\n",
    "    le.fit(dataset[category])\n",
    "    dataset[category] = le.transform(dataset[category])\n",
    "\n",
    "dataset.head()"
   ]
  },
  {
   "cell_type": "markdown",
   "metadata": {},
   "source": [
    "### 5.2 date/datetime/year\n",
    "- month, day, dayofweekに必要な要素を置き換えているので、削除する"
   ]
  },
  {
   "cell_type": "code",
   "execution_count": null,
   "metadata": {},
   "outputs": [],
   "source": [
    "dataset = dataset.drop(columns=['date', 'datetime', 'year'])"
   ]
  },
  {
   "cell_type": "code",
   "execution_count": null,
   "metadata": {},
   "outputs": [],
   "source": [
    "dataset.tail()"
   ]
  },
  {
   "cell_type": "markdown",
   "metadata": {},
   "source": [
    "## 6.Save preprocessed dataset"
   ]
  },
  {
   "cell_type": "code",
   "execution_count": null,
   "metadata": {},
   "outputs": [],
   "source": [
    "## Separate train dataset and test dataset\n",
    "train = dataset[:train_len]\n",
    "test = dataset[train_len:]\n",
    "test.drop(columns=['num_sold'], inplace=True)"
   ]
  },
  {
   "cell_type": "code",
   "execution_count": null,
   "metadata": {},
   "outputs": [],
   "source": [
    "train.to_csv(\"../data/processed/train.csv\")\n",
    "test.to_csv(\"../data/processed/test.csv\")"
   ]
  },
  {
   "cell_type": "code",
   "execution_count": null,
   "metadata": {},
   "outputs": [],
   "source": [
    "train.head()"
   ]
  },
  {
   "cell_type": "code",
   "execution_count": null,
   "metadata": {},
   "outputs": [],
   "source": [
    "test.head()"
   ]
  },
  {
   "cell_type": "code",
   "execution_count": null,
   "metadata": {},
   "outputs": [],
   "source": []
  },
  {
   "cell_type": "code",
   "execution_count": null,
   "metadata": {},
   "outputs": [],
   "source": []
  },
  {
   "cell_type": "code",
   "execution_count": null,
   "metadata": {},
   "outputs": [],
   "source": []
  },
  {
   "cell_type": "code",
   "execution_count": null,
   "metadata": {},
   "outputs": [],
   "source": []
  },
  {
   "cell_type": "code",
   "execution_count": null,
   "metadata": {},
   "outputs": [],
   "source": []
  },
  {
   "cell_type": "code",
   "execution_count": null,
   "metadata": {},
   "outputs": [],
   "source": []
  },
  {
   "cell_type": "markdown",
   "metadata": {},
   "source": [
    "# 検証中のメモ"
   ]
  },
  {
   "cell_type": "markdown",
   "metadata": {},
   "source": [
    "### store"
   ]
  },
  {
   "cell_type": "code",
   "execution_count": null,
   "metadata": {},
   "outputs": [],
   "source": [
    "g = sns.catplot(x='store', y='num_sold', hue='country', col='product', data=train, kind='bar', estimator=np.mean, ci='sd')\n",
    "g = g.set(ylabel='Average num_sold')\n",
    "train[[\"country\", \"num_sold\"]].groupby('country').mean()"
   ]
  },
  {
   "cell_type": "code",
   "execution_count": null,
   "metadata": {},
   "outputs": [],
   "source": [
    "g = sns.catplot(x=\"store\", y=\"num_sold\", hue=\"country\", data=train, kind=\"bar\")\n",
    "g.despine(left=True)"
   ]
  },
  {
   "cell_type": "code",
   "execution_count": null,
   "metadata": {},
   "outputs": [],
   "source": [
    "g = sns.catplot(x=\"store\", y=\"num_sold\", hue=\"product\", data=train, kind=\"bar\", palette=\"muted\")\n",
    "g.despine(left=True)"
   ]
  },
  {
   "cell_type": "code",
   "execution_count": null,
   "metadata": {},
   "outputs": [],
   "source": []
  },
  {
   "cell_type": "code",
   "execution_count": null,
   "metadata": {},
   "outputs": [],
   "source": [
    "g = sns.catplot(y=\"num_sold\", x=\"country\", hue='store', col='product', data=dataset, kind=\"box\")\n",
    "g = sns.catplot(y=\"num_sold\", x=\"store\", data=dataset, kind=\"box\")\n",
    "g = sns.catplot(y=\"num_sold\", x=\"product\", data=dataset, kind=\"box\")"
   ]
  },
  {
   "cell_type": "code",
   "execution_count": null,
   "metadata": {},
   "outputs": [],
   "source": []
  },
  {
   "cell_type": "code",
   "execution_count": null,
   "metadata": {},
   "outputs": [],
   "source": []
  },
  {
   "cell_type": "code",
   "execution_count": null,
   "metadata": {},
   "outputs": [],
   "source": []
  },
  {
   "cell_type": "code",
   "execution_count": null,
   "metadata": {},
   "outputs": [],
   "source": []
  },
  {
   "cell_type": "code",
   "execution_count": null,
   "metadata": {},
   "outputs": [],
   "source": []
  },
  {
   "cell_type": "code",
   "execution_count": null,
   "metadata": {},
   "outputs": [],
   "source": [
    "g = sns.catplot(x=\"dayofweek\", y=\"num_sold\", hue=\"store\", data=dataset, kind=\"bar\", palette=\"muted\")\n",
    "g.despine(left=True)"
   ]
  },
  {
   "cell_type": "code",
   "execution_count": null,
   "metadata": {},
   "outputs": [],
   "source": [
    "g = sns.catplot(x=\"month\", y=\"num_sold\", hue=\"store\", data=dataset, kind=\"bar\", palette=\"muted\")\n",
    "g.despine(left=True)"
   ]
  },
  {
   "cell_type": "code",
   "execution_count": null,
   "metadata": {},
   "outputs": [],
   "source": [
    "g = sns.catplot(x=\"month\", y=\"num_sold\", hue=\"product\", data=dataset, kind=\"bar\", palette=\"muted\")\n",
    "g.despine(left=True)"
   ]
  },
  {
   "cell_type": "code",
   "execution_count": null,
   "metadata": {},
   "outputs": [],
   "source": [
    "g = sns.catplot(x='country', y='num_sold', hue='store', col='product', data=train, kind='violin')\n",
    "g = g.set(ylabel='Average num_sold' )"
   ]
  },
  {
   "cell_type": "code",
   "execution_count": null,
   "metadata": {},
   "outputs": [],
   "source": []
  },
  {
   "cell_type": "code",
   "execution_count": null,
   "metadata": {},
   "outputs": [],
   "source": []
  },
  {
   "cell_type": "code",
   "execution_count": null,
   "metadata": {},
   "outputs": [],
   "source": []
  },
  {
   "cell_type": "code",
   "execution_count": null,
   "metadata": {},
   "outputs": [],
   "source": []
  },
  {
   "cell_type": "code",
   "execution_count": null,
   "metadata": {},
   "outputs": [],
   "source": []
  },
  {
   "cell_type": "code",
   "execution_count": null,
   "metadata": {},
   "outputs": [],
   "source": [
    "train.shape"
   ]
  },
  {
   "cell_type": "code",
   "execution_count": null,
   "metadata": {},
   "outputs": [],
   "source": [
    "test.shape"
   ]
  },
  {
   "cell_type": "code",
   "execution_count": null,
   "metadata": {},
   "outputs": [],
   "source": [
    "train[train[\"date\"] == '2015-01-01']"
   ]
  },
  {
   "cell_type": "code",
   "execution_count": null,
   "metadata": {},
   "outputs": [],
   "source": [
    "26298 / 9 / (365 * 6 + 366*2)"
   ]
  },
  {
   "cell_type": "code",
   "execution_count": null,
   "metadata": {},
   "outputs": [],
   "source": [
    "6570 / 9"
   ]
  },
  {
   "cell_type": "code",
   "execution_count": null,
   "metadata": {},
   "outputs": [],
   "source": []
  },
  {
   "cell_type": "code",
   "execution_count": null,
   "metadata": {},
   "outputs": [],
   "source": [
    "dataset.head()"
   ]
  },
  {
   "cell_type": "code",
   "execution_count": null,
   "metadata": {},
   "outputs": [],
   "source": []
  },
  {
   "cell_type": "code",
   "execution_count": null,
   "metadata": {},
   "outputs": [],
   "source": []
  }
 ],
 "metadata": {
  "interpreter": {
   "hash": "dc8a78a13283e3ba74119858067a74c2c7a55702e09c935fdd8fe4b244251524"
  },
  "kernelspec": {
   "display_name": "Python 3.9.7 64-bit ('3.9.7': pyenv)",
   "name": "python3"
  },
  "language_info": {
   "codemirror_mode": {
    "name": "ipython",
    "version": 3
   },
   "file_extension": ".py",
   "mimetype": "text/x-python",
   "name": "python",
   "nbconvert_exporter": "python",
   "pygments_lexer": "ipython3",
   "version": "3.9.7"
  },
  "orig_nbformat": 4
 },
 "nbformat": 4,
 "nbformat_minor": 2
}
